{
 "cells": [
  {
   "cell_type": "code",
   "execution_count": 4,
   "metadata": {},
   "outputs": [
    {
     "name": "stdout",
     "output_type": "stream",
     "text": [
      "Collecting keras\n",
      "  Using cached Keras-2.4.3-py2.py3-none-any.whl (36 kB)\n",
      "Requirement already satisfied: scipy>=0.14 in c:\\users\\aravind naidu\\anaconda3\\lib\\site-packages (from keras) (1.4.1)\n",
      "Requirement already satisfied: pyyaml in c:\\users\\aravind naidu\\anaconda3\\lib\\site-packages (from keras) (5.3.1)\n",
      "Requirement already satisfied: h5py in c:\\users\\aravind naidu\\anaconda3\\lib\\site-packages (from keras) (2.10.0)\n",
      "Requirement already satisfied: numpy>=1.9.1 in c:\\users\\aravind naidu\\anaconda3\\lib\\site-packages (from keras) (1.18.5)\n",
      "Requirement already satisfied: six in c:\\users\\aravind naidu\\anaconda3\\lib\\site-packages (from h5py->keras) (1.15.0)\n",
      "Installing collected packages: keras\n",
      "Successfully installed keras-2.4.3\n"
     ]
    }
   ],
   "source": [
    "!pip install keras"
   ]
  },
  {
   "cell_type": "code",
   "execution_count": 1,
   "metadata": {
    "colab": {},
    "colab_type": "code",
    "id": "D5WAv_S269eT"
   },
   "outputs": [],
   "source": [
    "import tensorflow\n",
    "from tensorflow import keras\n",
    "from keras.layers import Conv2D, Flatten, Dense, MaxPooling2D, Activation, Dropout\n",
    "from keras.models import Sequential\n",
    "import matplotlib.pyplot as plt\n",
    "from tensorflow.keras.callbacks import ModelCheckpoint\n",
    "import os\n",
    "import cv2"
   ]
  },
  {
   "cell_type": "code",
   "execution_count": 2,
   "metadata": {
    "colab": {},
    "colab_type": "code",
    "id": "rTk-KV6A9J_J"
   },
   "outputs": [],
   "source": [
    "DATADIR=('F:\\\\Dataset\\\\train')\n",
    "test=('F:\\\\Dataset\\\\train')\n",
    "CATEGORIES=[\"with_mask\",\"without_mask\"]\n",
    "\n",
    "\n",
    "training_data=[]\n",
    "\n",
    "for category in CATEGORIES:\n",
    "  path=os.path.join(DATADIR, category)\n",
    "  class_num=CATEGORIES.index(category)\n",
    "  for img in os.listdir(path):\n",
    "    img_array=cv2.imread(os.path.join(path, img),cv2.IMREAD_COLOR)\n",
    "    new_array=cv2.resize(img_array,(150,150))\n",
    "    training_data.append([new_array, class_num])\n",
    "    #Y.append([class_num])\n",
    "\n",
    "testing_data=[]\n",
    "\n",
    "for category in CATEGORIES:\n",
    "  path1=os.path.join(test, category)\n",
    "  class_num=CATEGORIES.index(category)\n",
    "  for img in os.listdir(path1):\n",
    "    img_array=cv2.imread(os.path.join(path1, img),cv2.IMREAD_COLOR)\n",
    "    new_array=cv2.resize(img_array,(150,150))\n",
    "    testing_data.append([new_array, class_num])\n"
   ]
  },
  {
   "cell_type": "code",
   "execution_count": 3,
   "metadata": {
    "colab": {},
    "colab_type": "code",
    "id": "PmG4Tp4uHRaB"
   },
   "outputs": [],
   "source": [
    "import random\n",
    "import numpy as np\n",
    "random.shuffle(training_data)\n",
    "X=[]\n",
    "Y=[]\n",
    "for features, labels in training_data:\n",
    "  X.append(features)\n",
    "  Y.append(labels)\n",
    "X=np.array([X]).reshape(-1, 150,150, 3)\n",
    "Y=np.array([Y]).reshape(1315)\n",
    "\n",
    "random.shuffle(testing_data)\n",
    "X_test=[]\n",
    "Y_test=[]\n",
    "for features, labels in training_data:\n",
    "  X_test.append(features)\n",
    "  Y_test.append(labels)\n",
    "X_test=np.array([X_test]).reshape(-1, 150,150, 3)\n",
    "Y_test=np.array([Y_test]).reshape(1315)\n",
    "\n"
   ]
  },
  {
   "cell_type": "code",
   "execution_count": 4,
   "metadata": {
    "colab": {
     "base_uri": "https://localhost:8080/",
     "height": 34
    },
    "colab_type": "code",
    "id": "ZZ6w98XbREtO",
    "outputId": "339b94d3-a7d3-4e71-dd4c-ff7132e1fc9d"
   },
   "outputs": [
    {
     "data": {
      "text/plain": [
       "1315"
      ]
     },
     "execution_count": 4,
     "metadata": {},
     "output_type": "execute_result"
    }
   ],
   "source": [
    "len(Y_test)"
   ]
  },
  {
   "cell_type": "code",
   "execution_count": 5,
   "metadata": {
    "colab": {},
    "colab_type": "code",
    "id": "fNGFbkI2gw0h"
   },
   "outputs": [],
   "source": [
    "X=X/255\n",
    "X_test=X_test/255"
   ]
  },
  {
   "cell_type": "code",
   "execution_count": 6,
   "metadata": {
    "colab": {},
    "colab_type": "code",
    "id": "r2EwOvLY8twa"
   },
   "outputs": [],
   "source": [
    "model = Sequential([\n",
    "    Conv2D(100, (3,3), activation='relu', input_shape=(150,150,3)),\n",
    "    MaxPooling2D(2,2),\n",
    "    \n",
    "    Conv2D(100, (3,3), activation='relu'),\n",
    "    MaxPooling2D(2,2),\n",
    "    \n",
    "    Conv2D(100, (3,3), activation='relu'),\n",
    "    MaxPooling2D(2,2),\n",
    "\n",
    "    Flatten(),\n",
    "    Dropout(0.5),\n",
    "    Dense(64, activation='relu'),\n",
    "    Dense(1, activation='sigmoid')\n",
    "])\n"
   ]
  },
  {
   "cell_type": "code",
   "execution_count": 8,
   "metadata": {
    "colab": {},
    "colab_type": "code",
    "id": "FJwFPYJEaPqI"
   },
   "outputs": [],
   "source": [
    "#from keras.optimizers import SGD\n",
    "#opt = SGD(lr=0.00000000000000000001)\n",
    "model.compile(loss='binary_crossentropy',metrics=['accuracy'],optimizer='sgd')"
   ]
  },
  {
   "cell_type": "code",
   "execution_count": 11,
   "metadata": {
    "colab": {
     "base_uri": "https://localhost:8080/",
     "height": 428
    },
    "colab_type": "code",
    "id": "a1wHGBtEL73U",
    "outputId": "71fdab20-9ace-4135-8a6a-b4cf23e93217"
   },
   "outputs": [
    {
     "name": "stdout",
     "output_type": "stream",
     "text": [
      "Epoch 1/10\n",
      "132/132 [==============================] - 228s 2s/step - loss: 0.0811 - accuracy: 0.9696 - val_loss: 0.0437 - val_accuracy: 0.9833\n",
      "Epoch 2/10\n",
      "132/132 [==============================] - 158s 1s/step - loss: 0.0559 - accuracy: 0.9795 - val_loss: 0.0826 - val_accuracy: 0.9719\n",
      "Epoch 3/10\n",
      "132/132 [==============================] - 157s 1s/step - loss: 0.0675 - accuracy: 0.9749 - val_loss: 0.0474 - val_accuracy: 0.9871\n",
      "Epoch 4/10\n",
      "132/132 [==============================] - 157s 1s/step - loss: 0.0534 - accuracy: 0.9833 - val_loss: 0.0398 - val_accuracy: 0.9894\n",
      "Epoch 5/10\n",
      "132/132 [==============================] - 157s 1s/step - loss: 0.0524 - accuracy: 0.9871 - val_loss: 0.0309 - val_accuracy: 0.9916\n",
      "Epoch 6/10\n",
      "132/132 [==============================] - 157s 1s/step - loss: 0.0465 - accuracy: 0.9840 - val_loss: 0.1028 - val_accuracy: 0.9536\n",
      "Epoch 7/10\n",
      "132/132 [==============================] - 180s 1s/step - loss: 0.0464 - accuracy: 0.9840 - val_loss: 0.0274 - val_accuracy: 0.9878\n",
      "Epoch 8/10\n",
      "132/132 [==============================] - 205s 2s/step - loss: 0.0424 - accuracy: 0.9848 - val_loss: 0.0258 - val_accuracy: 0.9909\n",
      "Epoch 9/10\n",
      "132/132 [==============================] - 266s 2s/step - loss: 0.0293 - accuracy: 0.9894 - val_loss: 0.0275 - val_accuracy: 0.9894\n",
      "Epoch 10/10\n",
      "132/132 [==============================] - 227s 2s/step - loss: 0.0494 - accuracy: 0.9810 - val_loss: 0.0223 - val_accuracy: 0.9924\n"
     ]
    },
    {
     "data": {
      "text/plain": [
       "<tensorflow.python.keras.callbacks.History at 0x210b189ca90>"
      ]
     },
     "execution_count": 11,
     "metadata": {},
     "output_type": "execute_result"
    }
   ],
   "source": [
    "\n",
    "model.fit(X, Y, batch_size = 10, epochs = 10,validation_data = (X_test, Y_test))"
   ]
  },
  {
   "cell_type": "code",
   "execution_count": 12,
   "metadata": {
    "colab": {
     "base_uri": "https://localhost:8080/",
     "height": 34
    },
    "colab_type": "code",
    "id": "Jvg0zWoUWuPR",
    "outputId": "752a15b6-d35a-4571-f15e-36a66da9bf90"
   },
   "outputs": [
    {
     "name": "stdout",
     "output_type": "stream",
     "text": [
      "42/42 [==============================] - 54s 1s/step - loss: 0.0223 - accuracy: 0.9924\n"
     ]
    },
    {
     "data": {
      "text/plain": [
       "[0.02231387235224247, 0.9923954606056213]"
      ]
     },
     "execution_count": 12,
     "metadata": {},
     "output_type": "execute_result"
    }
   ],
   "source": [
    "model.evaluate(X_test, Y_test)\n"
   ]
  },
  {
   "cell_type": "code",
   "execution_count": 14,
   "metadata": {
    "colab": {
     "base_uri": "https://localhost:8080/",
     "height": 204
    },
    "colab_type": "code",
    "id": "jmB3MG1quDgG",
    "outputId": "9e8b4536-c6ff-410a-e2a8-84eb93d50727"
   },
   "outputs": [
    {
     "name": "stdout",
     "output_type": "stream",
     "text": [
      "[[0]]\n"
     ]
    }
   ],
   "source": [
    "X_new=X_test[1:2]\n",
    "\n",
    "y_pred=model.predict_classes(X_new)\n",
    "print(y_pred)"
   ]
  },
  {
   "cell_type": "code",
   "execution_count": 13,
   "metadata": {
    "colab": {},
    "colab_type": "code",
    "id": "TxA72HTg4GyR"
   },
   "outputs": [],
   "source": [
    "model.save(\"F:\\\\my_model.h5\")"
   ]
  }
 ],
 "metadata": {
  "accelerator": "GPU",
  "colab": {
   "collapsed_sections": [],
   "name": "Copy of Untitled0.ipynb",
   "provenance": []
  },
  "kernelspec": {
   "display_name": "Python 3",
   "language": "python",
   "name": "python3"
  },
  "language_info": {
   "codemirror_mode": {
    "name": "ipython",
    "version": 3
   },
   "file_extension": ".py",
   "mimetype": "text/x-python",
   "name": "python",
   "nbconvert_exporter": "python",
   "pygments_lexer": "ipython3",
   "version": "3.8.3"
  }
 },
 "nbformat": 4,
 "nbformat_minor": 1
}
